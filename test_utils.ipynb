{
 "cells": [
  {
   "cell_type": "code",
   "execution_count": 1,
   "id": "f67cdd3f",
   "metadata": {},
   "outputs": [
    {
     "name": "stderr",
     "output_type": "stream",
     "text": [
      "2025-08-07 17:45:29 - vnstock.explorer.fmarket.fund - INFO - Total number of funds currently listed on Fmarket: 57\n"
     ]
    }
   ],
   "source": [
    "from utils import OpenData\n",
    "import pandas as pd"
   ]
  },
  {
   "cell_type": "code",
   "execution_count": 16,
   "id": "94570f6e",
   "metadata": {},
   "outputs": [
    {
     "name": "stderr",
     "output_type": "stream",
     "text": [
      "2025-08-06 16:30:38 - vnstock.explorer.fmarket.fund - INFO - Total number of funds currently listed on Fmarket: 57\n",
      "2025-08-06 16:30:38 - vnstock.explorer.fmarket.fund - INFO - Total number of funds currently listed on Fmarket: 57\n"
     ]
    }
   ],
   "source": [
    "fund = FundData()\n",
    "all_funds = fund.get_fund_name()"
   ]
  },
  {
   "cell_type": "code",
   "execution_count": 21,
   "id": "a6bbddb3",
   "metadata": {},
   "outputs": [
    {
     "data": {
      "text/plain": [
       "['VCBF-FIF',\n",
       " 'PVBF',\n",
       " 'MAFF',\n",
       " 'VNDBF',\n",
       " 'VFF',\n",
       " 'MBBOND',\n",
       " 'BVBF',\n",
       " 'ABBF',\n",
       " 'DCBF',\n",
       " 'SSIBF',\n",
       " 'ASBF',\n",
       " 'DCIP',\n",
       " 'VLBF',\n",
       " 'DFIX',\n",
       " 'LHBF',\n",
       " 'HDBOND',\n",
       " 'VCAMFI',\n",
       " 'MBAM',\n",
       " 'VNDCF']"
      ]
     },
     "execution_count": 21,
     "metadata": {},
     "output_type": "execute_result"
    }
   ],
   "source": [
    "fund_name = pd.DataFrame(all_funds[all_funds['fund_type'].str.contains('Quỹ trái phiếu', case=False, na=False)])\n",
    "fund_name['short_name'].tolist()"
   ]
  },
  {
   "cell_type": "code",
   "execution_count": 2,
   "id": "2d148789",
   "metadata": {},
   "outputs": [
    {
     "name": "stderr",
     "output_type": "stream",
     "text": [
      "2025-08-06 16:34:56 - vnstock.explorer.fmarket.fund - INFO - Total number of funds currently listed on Fmarket: 57\n",
      "2025-08-06 16:34:56 - vnstock.explorer.fmarket.fund - INFO - Total number of funds currently listed on Fmarket: 57\n"
     ]
    },
    {
     "data": {
      "text/plain": [
       "['DCDS',\n",
       " 'SSISCA',\n",
       " 'MBVF',\n",
       " 'BVFED',\n",
       " 'VCBF-MGF',\n",
       " 'VCBF-BCF',\n",
       " 'DCDE',\n",
       " 'MAGEF',\n",
       " 'BVPF',\n",
       " 'VESAF',\n",
       " 'VLGF',\n",
       " 'VEOF',\n",
       " 'MAFEQI',\n",
       " 'DCAF',\n",
       " 'VNDAF',\n",
       " 'TBLF',\n",
       " 'NTPPF',\n",
       " 'BMFF',\n",
       " 'TCGF',\n",
       " 'VCAMDF',\n",
       " 'UVEEF',\n",
       " 'PHVSF',\n",
       " 'EVESG',\n",
       " 'VMEEF',\n",
       " 'LHCDF',\n",
       " 'VCBF-AIF',\n",
       " 'VDEF',\n",
       " 'GFM-VIF',\n",
       " 'KDEF',\n",
       " 'RVPIF']"
      ]
     },
     "execution_count": 2,
     "metadata": {},
     "output_type": "execute_result"
    }
   ],
   "source": [
    "stock_fund = FundData(fund_type=3)\n",
    "stock_fund_name = stock_fund.get_fund_name()\n",
    "stock_fund_name"
   ]
  },
  {
   "cell_type": "code",
   "execution_count": 2,
   "id": "8e8f4519",
   "metadata": {},
   "outputs": [],
   "source": [
    "stock_fund = OpenData(fund_type=3)"
   ]
  },
  {
   "cell_type": "code",
   "execution_count": 3,
   "id": "9e9a7d6c",
   "metadata": {},
   "outputs": [
    {
     "name": "stderr",
     "output_type": "stream",
     "text": [
      "2025-08-07 17:45:35 - vnstock.explorer.fmarket.fund - INFO - Total number of funds currently listed on Fmarket: 57\n",
      "2025-08-07 17:45:35 - vnstock.explorer.fmarket.fund - INFO - Total number of funds currently listed on Fmarket: 57\n",
      "2025-08-07 17:45:35 - vnstock.explorer.fmarket.fund - INFO - Retrieving data for DCDS\n"
     ]
    },
    {
     "name": "stdout",
     "output_type": "stream",
     "text": [
      "Processing fund 1/3...\n"
     ]
    },
    {
     "name": "stderr",
     "output_type": "stream",
     "text": [
      "2025-08-07 17:45:35 - vnstock.explorer.fmarket.fund - INFO - Retrieving data for SSISCA\n"
     ]
    },
    {
     "name": "stdout",
     "output_type": "stream",
     "text": [
      "Processed fund DCDS\n"
     ]
    },
    {
     "name": "stderr",
     "output_type": "stream",
     "text": [
      "2025-08-07 17:45:35 - vnstock.explorer.fmarket.fund - INFO - Retrieving data for MBVF\n"
     ]
    },
    {
     "name": "stdout",
     "output_type": "stream",
     "text": [
      "Processed fund SSISCA\n"
     ]
    },
    {
     "name": "stderr",
     "output_type": "stream",
     "text": [
      "2025-08-07 17:45:36 - vnstock.explorer.fmarket.fund - INFO - Retrieving data for BVFED\n"
     ]
    },
    {
     "name": "stdout",
     "output_type": "stream",
     "text": [
      "Processed fund MBVF\n"
     ]
    },
    {
     "name": "stderr",
     "output_type": "stream",
     "text": [
      "2025-08-07 17:45:36 - vnstock.explorer.fmarket.fund - INFO - Retrieving data for VCBF-BCF\n"
     ]
    },
    {
     "name": "stdout",
     "output_type": "stream",
     "text": [
      "Processed fund BVFED\n"
     ]
    },
    {
     "name": "stderr",
     "output_type": "stream",
     "text": [
      "2025-08-07 17:45:36 - vnstock.explorer.fmarket.fund - INFO - Retrieving data for VCBF-MGF\n"
     ]
    },
    {
     "name": "stdout",
     "output_type": "stream",
     "text": [
      "Processed fund VCBF-BCF\n",
      "Processed fund VCBF-MGF\n"
     ]
    },
    {
     "name": "stderr",
     "output_type": "stream",
     "text": [
      "2025-08-07 17:45:36 - vnstock.explorer.fmarket.fund - INFO - Retrieving data for MAGEF\n",
      "2025-08-07 17:45:36 - vnstock.explorer.fmarket.fund - INFO - Retrieving data for DCDE\n"
     ]
    },
    {
     "name": "stdout",
     "output_type": "stream",
     "text": [
      "Processed fund MAGEF\n"
     ]
    },
    {
     "name": "stderr",
     "output_type": "stream",
     "text": [
      "2025-08-07 17:45:37 - vnstock.explorer.fmarket.fund - INFO - Retrieving data for VESAF\n"
     ]
    },
    {
     "name": "stdout",
     "output_type": "stream",
     "text": [
      "Processed fund DCDE\n"
     ]
    },
    {
     "name": "stderr",
     "output_type": "stream",
     "text": [
      "2025-08-07 17:45:37 - vnstock.explorer.fmarket.fund - INFO - Retrieving data for BVPF\n"
     ]
    },
    {
     "name": "stdout",
     "output_type": "stream",
     "text": [
      "Processed fund VESAF\n",
      "Processed fund BVPF\n",
      "Waiting 90 seconds to avoid rate limit...\n",
      "Processing fund 2/3...\n"
     ]
    },
    {
     "name": "stderr",
     "output_type": "stream",
     "text": [
      "2025-08-07 17:47:07 - vnstock.explorer.fmarket.fund - INFO - Retrieving data for VEOF\n",
      "2025-08-07 17:47:08 - vnstock.explorer.fmarket.fund - INFO - Retrieving data for VLGF\n"
     ]
    },
    {
     "name": "stdout",
     "output_type": "stream",
     "text": [
      "Processed fund VEOF\n"
     ]
    },
    {
     "name": "stderr",
     "output_type": "stream",
     "text": [
      "2025-08-07 17:47:08 - vnstock.explorer.fmarket.fund - INFO - Retrieving data for MAFEQI\n"
     ]
    },
    {
     "name": "stdout",
     "output_type": "stream",
     "text": [
      "Processed fund VLGF\n"
     ]
    },
    {
     "name": "stderr",
     "output_type": "stream",
     "text": [
      "2025-08-07 17:47:08 - vnstock.explorer.fmarket.fund - INFO - Retrieving data for DCAF\n"
     ]
    },
    {
     "name": "stdout",
     "output_type": "stream",
     "text": [
      "Processed fund MAFEQI\n"
     ]
    },
    {
     "name": "stderr",
     "output_type": "stream",
     "text": [
      "2025-08-07 17:47:08 - vnstock.explorer.fmarket.fund - INFO - Retrieving data for VNDAF\n"
     ]
    },
    {
     "name": "stdout",
     "output_type": "stream",
     "text": [
      "Processed fund DCAF\n"
     ]
    },
    {
     "name": "stderr",
     "output_type": "stream",
     "text": [
      "2025-08-07 17:47:09 - vnstock.explorer.fmarket.fund - INFO - Retrieving data for TBLF\n"
     ]
    },
    {
     "name": "stdout",
     "output_type": "stream",
     "text": [
      "Processed fund VNDAF\n",
      "Processed fund TBLF\n"
     ]
    },
    {
     "name": "stderr",
     "output_type": "stream",
     "text": [
      "2025-08-07 17:47:09 - vnstock.explorer.fmarket.fund - INFO - Retrieving data for NTPPF\n",
      "2025-08-07 17:47:09 - vnstock.explorer.fmarket.fund - INFO - Retrieving data for BMFF\n"
     ]
    },
    {
     "name": "stdout",
     "output_type": "stream",
     "text": [
      "Processed fund NTPPF\n"
     ]
    },
    {
     "name": "stderr",
     "output_type": "stream",
     "text": [
      "2025-08-07 17:47:09 - vnstock.explorer.fmarket.fund - INFO - Retrieving data for TCGF\n"
     ]
    },
    {
     "name": "stdout",
     "output_type": "stream",
     "text": [
      "Processed fund BMFF\n",
      "Processed fund TCGF\n"
     ]
    },
    {
     "name": "stderr",
     "output_type": "stream",
     "text": [
      "2025-08-07 17:47:09 - vnstock.explorer.fmarket.fund - INFO - Retrieving data for VCAMDF\n"
     ]
    },
    {
     "name": "stdout",
     "output_type": "stream",
     "text": [
      "Processed fund VCAMDF\n",
      "Waiting 90 seconds to avoid rate limit...\n"
     ]
    },
    {
     "name": "stderr",
     "output_type": "stream",
     "text": [
      "2025-08-07 17:48:40 - vnstock.explorer.fmarket.fund - INFO - Retrieving data for UVEEF\n"
     ]
    },
    {
     "name": "stdout",
     "output_type": "stream",
     "text": [
      "Processing fund 3/3...\n"
     ]
    },
    {
     "name": "stderr",
     "output_type": "stream",
     "text": [
      "2025-08-07 17:48:40 - vnstock.explorer.fmarket.fund - INFO - Retrieving data for EVESG\n"
     ]
    },
    {
     "name": "stdout",
     "output_type": "stream",
     "text": [
      "Processed fund UVEEF\n",
      "Processed fund EVESG\n"
     ]
    },
    {
     "name": "stderr",
     "output_type": "stream",
     "text": [
      "2025-08-07 17:48:40 - vnstock.explorer.fmarket.fund - INFO - Retrieving data for PHVSF\n",
      "2025-08-07 17:48:40 - vnstock.explorer.fmarket.fund - INFO - Retrieving data for VMEEF\n"
     ]
    },
    {
     "name": "stdout",
     "output_type": "stream",
     "text": [
      "Processed fund PHVSF\n",
      "Processed fund VMEEF\n"
     ]
    },
    {
     "name": "stderr",
     "output_type": "stream",
     "text": [
      "2025-08-07 17:48:40 - vnstock.explorer.fmarket.fund - INFO - Retrieving data for VCBF-AIF\n",
      "2025-08-07 17:48:40 - vnstock.explorer.fmarket.fund - INFO - Retrieving data for LHCDF\n"
     ]
    },
    {
     "name": "stdout",
     "output_type": "stream",
     "text": [
      "Processed fund VCBF-AIF\n",
      "Processed fund LHCDF\n"
     ]
    },
    {
     "name": "stderr",
     "output_type": "stream",
     "text": [
      "2025-08-07 17:48:41 - vnstock.explorer.fmarket.fund - INFO - Retrieving data for VDEF\n",
      "2025-08-07 17:48:41 - vnstock.explorer.fmarket.fund - INFO - Retrieving data for GFM-VIF\n"
     ]
    },
    {
     "name": "stdout",
     "output_type": "stream",
     "text": [
      "Processed fund VDEF\n",
      "Processed fund GFM-VIF\n"
     ]
    },
    {
     "name": "stderr",
     "output_type": "stream",
     "text": [
      "2025-08-07 17:48:41 - vnstock.explorer.fmarket.fund - INFO - Retrieving data for KDEF\n",
      "2025-08-07 17:48:41 - vnstock.explorer.fmarket.fund - INFO - Retrieving data for RVPIF\n"
     ]
    },
    {
     "name": "stdout",
     "output_type": "stream",
     "text": [
      "Processed fund KDEF\n",
      "Processed fund RVPIF\n"
     ]
    }
   ],
   "source": [
    "stock_fund.get_csv(r\"data\\stock_fund\")"
   ]
  }
 ],
 "metadata": {
  "kernelspec": {
   "display_name": "vnstock",
   "language": "python",
   "name": "myenv"
  },
  "language_info": {
   "codemirror_mode": {
    "name": "ipython",
    "version": 3
   },
   "file_extension": ".py",
   "mimetype": "text/x-python",
   "name": "python",
   "nbconvert_exporter": "python",
   "pygments_lexer": "ipython3",
   "version": "3.10.18"
  }
 },
 "nbformat": 4,
 "nbformat_minor": 5
}
