{
 "cells": [
  {
   "cell_type": "code",
   "execution_count": 1,
   "id": "f67cdd3f",
   "metadata": {},
   "outputs": [],
   "source": [
    "from utils import FundData\n",
    "import pandas as pd"
   ]
  },
  {
   "cell_type": "code",
   "execution_count": 16,
   "id": "94570f6e",
   "metadata": {},
   "outputs": [
    {
     "name": "stderr",
     "output_type": "stream",
     "text": [
      "2025-08-06 16:30:38 - vnstock.explorer.fmarket.fund - INFO - Total number of funds currently listed on Fmarket: 57\n",
      "2025-08-06 16:30:38 - vnstock.explorer.fmarket.fund - INFO - Total number of funds currently listed on Fmarket: 57\n"
     ]
    }
   ],
   "source": [
    "fund = FundData()\n",
    "all_funds = fund.get_fund_name()"
   ]
  },
  {
   "cell_type": "code",
   "execution_count": 21,
   "id": "a6bbddb3",
   "metadata": {},
   "outputs": [
    {
     "data": {
      "text/plain": [
       "['VCBF-FIF',\n",
       " 'PVBF',\n",
       " 'MAFF',\n",
       " 'VNDBF',\n",
       " 'VFF',\n",
       " 'MBBOND',\n",
       " 'BVBF',\n",
       " 'ABBF',\n",
       " 'DCBF',\n",
       " 'SSIBF',\n",
       " 'ASBF',\n",
       " 'DCIP',\n",
       " 'VLBF',\n",
       " 'DFIX',\n",
       " 'LHBF',\n",
       " 'HDBOND',\n",
       " 'VCAMFI',\n",
       " 'MBAM',\n",
       " 'VNDCF']"
      ]
     },
     "execution_count": 21,
     "metadata": {},
     "output_type": "execute_result"
    }
   ],
   "source": [
    "fund_name = pd.DataFrame(all_funds[all_funds['fund_type'].str.contains('Quỹ trái phiếu', case=False, na=False)])\n",
    "fund_name['short_name'].tolist()"
   ]
  },
  {
   "cell_type": "code",
   "execution_count": 2,
   "id": "2d148789",
   "metadata": {},
   "outputs": [
    {
     "name": "stderr",
     "output_type": "stream",
     "text": [
      "2025-08-06 16:34:56 - vnstock.explorer.fmarket.fund - INFO - Total number of funds currently listed on Fmarket: 57\n",
      "2025-08-06 16:34:56 - vnstock.explorer.fmarket.fund - INFO - Total number of funds currently listed on Fmarket: 57\n"
     ]
    },
    {
     "data": {
      "text/plain": [
       "['DCDS',\n",
       " 'SSISCA',\n",
       " 'MBVF',\n",
       " 'BVFED',\n",
       " 'VCBF-MGF',\n",
       " 'VCBF-BCF',\n",
       " 'DCDE',\n",
       " 'MAGEF',\n",
       " 'BVPF',\n",
       " 'VESAF',\n",
       " 'VLGF',\n",
       " 'VEOF',\n",
       " 'MAFEQI',\n",
       " 'DCAF',\n",
       " 'VNDAF',\n",
       " 'TBLF',\n",
       " 'NTPPF',\n",
       " 'BMFF',\n",
       " 'TCGF',\n",
       " 'VCAMDF',\n",
       " 'UVEEF',\n",
       " 'PHVSF',\n",
       " 'EVESG',\n",
       " 'VMEEF',\n",
       " 'LHCDF',\n",
       " 'VCBF-AIF',\n",
       " 'VDEF',\n",
       " 'GFM-VIF',\n",
       " 'KDEF',\n",
       " 'RVPIF']"
      ]
     },
     "execution_count": 2,
     "metadata": {},
     "output_type": "execute_result"
    }
   ],
   "source": [
    "stock_fund = FundData(fund_type=3)\n",
    "stock_fund_name = stock_fund.get_fund_name()\n",
    "stock_fund_name"
   ]
  }
 ],
 "metadata": {
  "kernelspec": {
   "display_name": "vnstock",
   "language": "python",
   "name": "myenv"
  },
  "language_info": {
   "codemirror_mode": {
    "name": "ipython",
    "version": 3
   },
   "file_extension": ".py",
   "mimetype": "text/x-python",
   "name": "python",
   "nbconvert_exporter": "python",
   "pygments_lexer": "ipython3",
   "version": "3.10.18"
  }
 },
 "nbformat": 4,
 "nbformat_minor": 5
}
