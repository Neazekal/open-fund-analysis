{
 "cells": [
  {
   "cell_type": "code",
   "execution_count": 1,
   "id": "f67cdd3f",
   "metadata": {},
   "outputs": [
    {
     "name": "stderr",
     "output_type": "stream",
     "text": [
      "2025-08-28 15:43:26 - vnstock.explorer.fmarket.fund - INFO - Total number of funds currently listed on Fmarket: 58\n"
     ]
    }
   ],
   "source": [
    "from take_data import OpenData, get_symbol_data\n",
    "import pandas as pd\n",
    "from vnstock.explorer.fmarket.fund import Fund\n",
    "from vnstock import Vnstock"
   ]
  },
  {
   "cell_type": "code",
   "execution_count": 3,
   "id": "94570f6e",
   "metadata": {},
   "outputs": [],
   "source": [
    "vnindex = get_symbol_data('VNINDEX', '2020-01-01', '2025-01-27', r'data\\index')"
   ]
  }
 ],
 "metadata": {
  "kernelspec": {
   "display_name": "vnstock",
   "language": "python",
   "name": "vnstock"
  },
  "language_info": {
   "codemirror_mode": {
    "name": "ipython",
    "version": 3
   },
   "file_extension": ".py",
   "mimetype": "text/x-python",
   "name": "python",
   "nbconvert_exporter": "python",
   "pygments_lexer": "ipython3",
   "version": "3.11.13"
  }
 },
 "nbformat": 4,
 "nbformat_minor": 5
}
